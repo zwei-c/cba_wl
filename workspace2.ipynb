{
 "cells": [
  {
   "cell_type": "code",
   "execution_count": 1,
   "metadata": {},
   "outputs": [],
   "source": [
    "from DataProcessing import DataProcessing\n",
    "from Car import Car\n",
    "from Cba import Cba"
   ]
  },
  {
   "cell_type": "code",
   "execution_count": 2,
   "metadata": {},
   "outputs": [
    {
     "name": "stdout",
     "output_type": "stream",
     "text": [
      "10\n",
      "15\n",
      "45\n",
      "169\n",
      "0\n"
     ]
    }
   ],
   "source": [
    "data_procesing = DataProcessing(\"adult.data\")\n",
    "data_procesing.read_data()\n",
    "data_procesing.process()\n",
    "data = data_procesing.encoded_data\n",
    "MIN_SUPPORT = 0.3\n",
    "MIN_CONFIDENCE = 0.7\n",
    "car = Car(data, MIN_SUPPORT, MIN_CONFIDENCE)\n",
    "car.generate_frequent()\n",
    "car.sort_rule()\n",
    "cba = Cba(data, car.rule)\n",
    "cba.cover()\n",
    "\n",
    "# print(\"Final Rules:\")\n",
    "# for rule in cba.final_rules:\n",
    "#     rule['rule'].print_ruleitem()\n",
    "#     print(f\"Error: {rule['error']}\")\n",
    "#     print(\"\")\n",
    "# print(f\"Default: {cba.default}\")"
   ]
  },
  {
   "cell_type": "code",
   "execution_count": 3,
   "metadata": {},
   "outputs": [],
   "source": [
    "car.sort_rule()\n",
    "cba = Cba(data, car.rule)\n",
    "cba.cover()"
   ]
  },
  {
   "cell_type": "code",
   "execution_count": 4,
   "metadata": {},
   "outputs": [
    {
     "name": "stdout",
     "output_type": "stream",
     "text": [
      "Final Rules:\n",
      "10=0 11=0 5=4 => class=0 (support=0.30468965940849485, confidence=0.9593849724398027, lift=0.0)\n",
      "Error: 22640\n",
      "\n",
      "11=0 5=4 => class=0 (support=0.30481250575842267, confidence=0.9568109515087246, lift=0.0)\n",
      "Error: 22636\n",
      "\n",
      "10=0 5=4 => class=0 (support=0.31288965326617735, confidence=0.9565299032954653, lift=0.0)\n",
      "Error: 22369\n",
      "\n",
      "0=0 10=0 11=0 => class=0 (support=0.3172506986886152, confidence=0.9307983420436114, lift=0.0)\n",
      "Error: 19504\n",
      "\n",
      "0=0 11=0 => class=0 (support=0.317404256626025, confidence=0.9294064748201438, lift=0.0)\n",
      "Error: 19503\n",
      "\n",
      "0=0 10=0 => class=0 (support=0.32523571143392405, confidence=0.9258611645392552, lift=0.0)\n",
      "Error: 19423\n",
      "\n",
      "10=0 11=0 4=2 12=1 => class=0 (support=0.3048432173459046, confidence=0.8671267581025596, lift=0.0)\n",
      "Error: 14925\n",
      "\n",
      "11=0 4=2 12=1 => class=0 (support=0.30487392893338655, confidence=0.8649472858760999, lift=0.0)\n",
      "Error: 14924\n",
      "\n",
      "10=0 4=2 12=1 => class=0 (support=0.3132581923159608, confidence=0.8606868618681967, lift=0.0)\n",
      "Error: 14782\n",
      "\n",
      "1=4 10=0 11=0 4=2 => class=0 (support=0.33300574306685915, confidence=0.8519682564626386, lift=0.0)\n",
      "Error: 13392\n",
      "\n",
      "1=4 11=0 4=2 => class=0 (support=0.33306716624182303, confidence=0.8504548306148055, lift=0.0)\n",
      "Error: 13392\n",
      "\n",
      "1=4 10=0 11=0 12=1 => class=0 (support=0.36092257608795797, confidence=0.8451028333093629, lift=0.0)\n",
      "Error: 11539\n",
      "\n",
      "1=4 10=0 4=2 => class=0 (support=0.3421270845490003, confidence=0.845091791837354, lift=0.0)\n",
      "Error: 11479\n",
      "\n",
      "1=4 11=0 12=1 => class=0 (support=0.36095328767543994, confidence=0.8425089605734767, lift=0.0)\n",
      "Error: 11479\n",
      "\n",
      "11=0 2=0 10=0 4=2 => class=0 (support=0.39507386136789413, confidence=0.8419399175338701, lift=0.0)\n",
      "Error: 10643\n",
      "\n",
      "10=0 11=0 4=2 => class=0 (support=0.45139891280980315, confidence=0.8406062339147841, lift=0.0)\n",
      "Error: 10564\n",
      "\n",
      "2=0 11=0 4=2 => class=0 (support=0.3952274193053039, confidence=0.8393555961387947, lift=0.0)\n",
      "Error: 10563\n",
      "\n",
      "11=0 4=2 => class=0 (support=0.45155247074721294, confidence=0.8380642954856361, lift=0.0)\n",
      "Error: 10563\n",
      "\n",
      "1=4 10=0 12=1 => class=0 (support=0.37038174503240073, confidence=0.8362804243811108, lift=0.0)\n",
      "Error: 10515\n",
      "\n",
      "2=0 10=0 4=2 => class=0 (support=0.40714351524830317, confidence=0.8341933048074502, lift=0.0)\n",
      "Error: 10489\n",
      "\n",
      "10=0 4=2 => class=0 (support=0.46451276066459873, confidence=0.8325993614444567, lift=0.0)\n",
      "Error: 10487\n",
      "\n",
      "10=0 11=0 12=1 => class=0 (support=0.4853659285648475, confidence=0.8244131455399061, lift=0.0)\n",
      "Error: 9555\n",
      "\n",
      "11=0 12=1 => class=0 (support=0.4854580633272934, confidence=0.8206312947772818, lift=0.0)\n",
      "Error: 9555\n",
      "\n",
      "10=0 12=1 => class=0 (support=0.4993397008691379, confidence=0.8145791583166333, lift=0.0)\n",
      "Error: 9518\n",
      "\n",
      "1=4 10=0 11=0 => class=0 (support=0.5294677681889377, confidence=0.797889572823622, lift=0.0)\n",
      "Error: 8637\n",
      "\n",
      "1=4 11=0 => class=0 (support=0.5295599029513836, confidence=0.79336523419527, lift=0.0)\n",
      "Error: 8637\n",
      "\n",
      "1=4 10=0 => class=0 (support=0.5445164460550966, confidence=0.7855908547122159, lift=0.0)\n",
      "Error: 8604\n",
      "\n",
      "10=0 11=0 => class=0 (support=0.7368324068671109, confidence=0.7785313301100042, lift=0.0)\n",
      "Error: 7867\n",
      "\n",
      "11=0 => class=0 (support=0.7370780995669666, confidence=0.7724493080141615, lift=0.0)\n",
      "Error: 7866\n",
      "\n",
      "Default: 1\n"
     ]
    }
   ],
   "source": [
    "print(\"Final Rules:\")\n",
    "for rule in cba.final_rules:\n",
    "    rule['rule'].print_ruleitem()\n",
    "    print(f\"Error: {rule['error']}\")\n",
    "    print(\"\")\n",
    "print(f\"Default: {cba.default}\")"
   ]
  }
 ],
 "metadata": {
  "kernelspec": {
   "display_name": "venv",
   "language": "python",
   "name": "python3"
  },
  "language_info": {
   "codemirror_mode": {
    "name": "ipython",
    "version": 3
   },
   "file_extension": ".py",
   "mimetype": "text/x-python",
   "name": "python",
   "nbconvert_exporter": "python",
   "pygments_lexer": "ipython3",
   "version": "3.11.4"
  },
  "orig_nbformat": 4
 },
 "nbformat": 4,
 "nbformat_minor": 2
}
