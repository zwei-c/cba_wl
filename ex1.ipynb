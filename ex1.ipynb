{
 "cells": [
  {
   "cell_type": "code",
   "execution_count": 4,
   "metadata": {},
   "outputs": [],
   "source": [
    "from sklearn.preprocessing import LabelEncoder\n",
    "from sklearn.ensemble import RandomForestClassifier\n",
    "import pandas as pd\n",
    "import os\n"
   ]
  },
  {
   "cell_type": "code",
   "execution_count": 11,
   "metadata": {},
   "outputs": [
    {
     "name": "stdout",
     "output_type": "stream",
     "text": [
      "c:\\Users\\yie09\\Desktop\\cba_wl\\data\\car.data\n",
      "  buying  maint doors persons lug_boot safety target\n",
      "0  vhigh  vhigh     2       2    small    low  unacc\n",
      "1  vhigh  vhigh     2       2    small    med  unacc\n",
      "2  vhigh  vhigh     2       2    small   high  unacc\n",
      "3  vhigh  vhigh     2       2      med    low  unacc\n",
      "4  vhigh  vhigh     2       2      med    med  unacc\n"
     ]
    }
   ],
   "source": [
    "data_path = os.path.join(os.getcwd(), \"data\", \"car.data\")\n",
    "print(data_path)\n",
    "# 定義特徵名稱\n",
    "columns = [\"buying\", \"maint\", \"doors\", \"persons\", \"lug_boot\", \"safety\", \"target\"]\n",
    "\n",
    "# 讀取\".data\"文件，並指定特徵名稱\n",
    "data = pd.read_csv(data_path, header=None, names=columns)\n",
    "\n",
    "# 顯示前幾筆資料\n",
    "print(data.head())\n"
   ]
  },
  {
   "cell_type": "code",
   "execution_count": 14,
   "metadata": {},
   "outputs": [
    {
     "name": "stdout",
     "output_type": "stream",
     "text": [
      "   buying  maint  doors  persons  lug_boot  safety  target\n",
      "0       3      3      0        0         2       1       2\n",
      "1       3      3      0        0         2       2       2\n",
      "2       3      3      0        0         2       0       2\n",
      "3       3      3      0        0         1       1       2\n",
      "4       3      3      0        0         1       2       2\n"
     ]
    }
   ],
   "source": [
    "\n",
    "# 對特徵進行Label Encoding\n",
    "label_encoder = LabelEncoder()\n",
    "data_encoded = data.apply(label_encoder.fit_transform)\n",
    "\n",
    "# 顯示前幾筆編碼後的資料\n",
    "print(data_encoded.head())\n"
   ]
  },
  {
   "cell_type": "code",
   "execution_count": 15,
   "metadata": {},
   "outputs": [
    {
     "name": "stdout",
     "output_type": "stream",
     "text": [
      "[0.19132171 0.15701552 0.06159421 0.22913209 0.08322352 0.27771294]\n"
     ]
    }
   ],
   "source": [
    "# 假設X是特徵矩陣，y是目標變量\n",
    "X = data_encoded.drop('target', axis=1)  # target_column_name是目標變量的名稱\n",
    "y = data_encoded['target']\n",
    "\n",
    "# 創建隨機森林模型\n",
    "model = RandomForestClassifier()\n",
    "\n",
    "# 擬合模型\n",
    "model.fit(X, y)\n",
    "\n",
    "# 獲取特徵重要性\n",
    "feature_importance = model.feature_importances_\n",
    "\n",
    "# 顯示特徵重要性\n",
    "print(feature_importance)\n"
   ]
  }
 ],
 "metadata": {
  "kernelspec": {
   "display_name": "venv",
   "language": "python",
   "name": "python3"
  },
  "language_info": {
   "codemirror_mode": {
    "name": "ipython",
    "version": 3
   },
   "file_extension": ".py",
   "mimetype": "text/x-python",
   "name": "python",
   "nbconvert_exporter": "python",
   "pygments_lexer": "ipython3",
   "version": "3.10.7"
  },
  "orig_nbformat": 4
 },
 "nbformat": 4,
 "nbformat_minor": 2
}
