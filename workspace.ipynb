{
 "cells": [
  {
   "cell_type": "code",
   "execution_count": 1,
   "metadata": {},
   "outputs": [],
   "source": [
    "from DataProcessing import DataProcessing\n",
    "from Car import Car\n",
    "from Cba import Cba\n",
    "from Validation import Validation"
   ]
  },
  {
   "cell_type": "markdown",
   "metadata": {},
   "source": [
    "## 原版 CBA\n"
   ]
  },
  {
   "cell_type": "code",
   "execution_count": 2,
   "metadata": {},
   "outputs": [
    {
     "name": "stdout",
     "output_type": "stream",
     "text": [
      "3=0 => class=2 (support=0.3379160636758321, confidence=1.0, lift=1.4188911704312117)\n",
      "5=1 => class=2 (support=0.33646888567293776, confidence=1.0, lift=1.4188911704312117)\n",
      "0=3 => class=2 (support=0.20477568740955138, confidence=0.827485380116959, lift=1.174111699508868)\n",
      "1=3 => class=2 (support=0.20477568740955138, confidence=0.827485380116959, lift=1.174111699508868)\n",
      "4=2 => class=2 (support=0.25253256150506515, confidence=0.7842696629213484, lift=1.1127932999561638)\n",
      "2=0 => class=2 (support=0.18885672937771347, confidence=0.7721893491124261, lift=1.0956526493566456)\n",
      "0=0 => class=2 (support=0.19681620839363242, confidence=0.7555555555555556, lift=1.0720511065480267)\n",
      "3\n",
      "Macro F1 Score: 0.35839441136051303\n",
      "Accuracy: 0.6676300578034682\n"
     ]
    }
   ],
   "source": [
    "data_procesing = DataProcessing(\"car.data\")\n",
    "data_procesing.read_data()\n",
    "data_procesing.process()\n",
    "data = data_procesing.encoded_data\n",
    "train_data, test_data = data_procesing.split_train_test_data()\n",
    "MIN_SUPPORT = 0.1\n",
    "MIN_CONFIDENCE = 0.7\n",
    "car = Car(train_data, MIN_SUPPORT, MIN_CONFIDENCE)\n",
    "car.generate_frequent()\n",
    "car.sort_rule(1)\n",
    "cba = Cba(train_data, car.rule)\n",
    "cba.cover()\n",
    "rules = cba.final_rules_\n",
    "default = cba.default\n",
    "test = Validation(test_data, rules, default, 'single')"
   ]
  },
  {
   "cell_type": "markdown",
   "metadata": {},
   "source": [
    "## WCBA 隨機森林\n"
   ]
  },
  {
   "cell_type": "code",
   "execution_count": 3,
   "metadata": {},
   "outputs": [
    {
     "name": "stdout",
     "output_type": "stream",
     "text": [
      "2=0 => class=2 (support=0.18885672937771347, weight_supprot=0.19981041968162086, confidence=0.7721893491124261, lift=1.0956526493566456)\n",
      "1=0 => class=2 (support=0.17945007235890015, weight_supprot=0.20816208393632415, confidence=0.7315634218289085, lift=1.0380088798434821)\n",
      "0=0 => class=2 (support=0.19681620839363242, weight_supprot=0.23519536903039076, confidence=0.7555555555555556, lift=1.0720511065480267)\n",
      "1=3 => class=2 (support=0.20477568740955138, weight_supprot=0.23753979739507958, confidence=0.827485380116959, lift=1.174111699508868)\n",
      "0=3 => class=2 (support=0.20477568740955138, weight_supprot=0.2447069464544139, confidence=0.827485380116959, lift=1.174111699508868)\n",
      "4=2 => class=2 (support=0.25253256150506515, weight_supprot=0.27399782923299565, confidence=0.7842696629213484, lift=1.1127932999561638)\n",
      "3=0 => class=2 (support=0.3379160636758321, weight_supprot=0.41834008683068014, confidence=1.0, lift=1.4188911704312117)\n",
      "Macro F1 Score: 0.2834211329974042\n",
      "Accuracy: 0.5664739884393064\n"
     ]
    }
   ],
   "source": [
    "data_procesing.get_feature_importances()\n",
    "feature_importances = data_procesing.feature_importances\n",
    "MIN_SUPPORT = 0.1\n",
    "MIN_CONFIDENCE = 0.7\n",
    "car = Car(data=train_data, min_support=MIN_SUPPORT,\n",
    "          min_confidence=MIN_CONFIDENCE, weights=feature_importances)\n",
    "car.generate_frequent()\n",
    "car.sort_rule(3, True)\n",
    "cba = Cba(train_data, car.rule)\n",
    "cba.cover()\n",
    "rules = cba.final_rules_\n",
    "default = cba.default\n",
    "test = Validation(test_data, rules, default, 'group')"
   ]
  }
 ],
 "metadata": {
  "kernelspec": {
   "display_name": "venv",
   "language": "python",
   "name": "python3"
  },
  "language_info": {
   "codemirror_mode": {
    "name": "ipython",
    "version": 3
   },
   "file_extension": ".py",
   "mimetype": "text/x-python",
   "name": "python",
   "nbconvert_exporter": "python",
   "pygments_lexer": "ipython3",
   "version": "3.10.7"
  },
  "orig_nbformat": 4
 },
 "nbformat": 4,
 "nbformat_minor": 2
}
