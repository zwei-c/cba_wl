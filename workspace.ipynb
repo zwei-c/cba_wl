{
 "cells": [
  {
   "cell_type": "code",
   "execution_count": 73,
   "metadata": {},
   "outputs": [],
   "source": [
    "from DataProcessing import DataProcessing\n",
    "from Car import Car\n",
    "from Cba import Cba\n",
    "from Validation import Validation\n",
    "import time\n",
    "MIN_SUPPORT = 0.1\n",
    "MIN_CONFIDENCE = 0.5\n",
    "MIN_LIFT = 1.4"
   ]
  },
  {
   "cell_type": "code",
   "execution_count": 74,
   "metadata": {},
   "outputs": [],
   "source": [
    "def compute_runtime(start_time, end_time):\n",
    "    return end_time - start_time"
   ]
  },
  {
   "cell_type": "markdown",
   "metadata": {},
   "source": [
    "## 原版 CBA\n"
   ]
  },
  {
   "cell_type": "code",
   "execution_count": 75,
   "metadata": {},
   "outputs": [
    {
     "name": "stdout",
     "output_type": "stream",
     "text": [
      "Runtime:  1.338712453842163\n",
      "Macro F1 Score: 0.35839441136051303\n",
      "Accuracy: 0.6676300578034682\n"
     ]
    }
   ],
   "source": [
    "data_procesing = DataProcessing(\"car.data\")\n",
    "data_procesing.read_data()\n",
    "data_procesing.process()\n",
    "data = data_procesing.encoded_data\n",
    "train_data, test_data = data_procesing.split_train_test_data()\n",
    "start_time = time.time()\n",
    "car = Car(train_data, MIN_SUPPORT, MIN_CONFIDENCE)\n",
    "car.generate_frequent()\n",
    "car.sort_rule(1)\n",
    "cba = Cba(train_data, car.rule)\n",
    "cba.cover()\n",
    "rules = cba.final_rules_\n",
    "default = cba.default\n",
    "end_time = time.time()\n",
    "print(\"Runtime: \", compute_runtime(start_time, end_time))\n",
    "test = Validation(test_data, rules, default, 'single')"
   ]
  },
  {
   "cell_type": "markdown",
   "metadata": {},
   "source": [
    "## WCBA 隨機森林\n"
   ]
  },
  {
   "cell_type": "code",
   "execution_count": 76,
   "metadata": {},
   "outputs": [
    {
     "name": "stdout",
     "output_type": "stream",
     "text": [
      "Runtime:  0.9820315837860107\n",
      "Macro F1 Score: 0.3654265873015873\n",
      "Accuracy: 0.684971098265896\n"
     ]
    }
   ],
   "source": [
    "data_procesing.get_feature_importances()\n",
    "feature_importances = data_procesing.feature_importances\n",
    "start_time = time.time()\n",
    "car = Car(data=train_data, min_support=MIN_SUPPORT,\n",
    "          min_confidence=MIN_CONFIDENCE, weights=feature_importances)\n",
    "car.generate_frequent()\n",
    "car.sort_rule(3, True)\n",
    "\n",
    "cba = Cba(train_data, car.rule)\n",
    "cba.cover()\n",
    "rules = cba.final_rules_\n",
    "default = cba.default\n",
    "end_time = time.time()\n",
    "print(\"Runtime: \", compute_runtime(start_time, end_time))\n",
    "test = Validation(test_data, rules, default, 'group')"
   ]
  },
  {
   "cell_type": "markdown",
   "metadata": {},
   "source": [
    "## APR 演算法\n"
   ]
  },
  {
   "cell_type": "code",
   "execution_count": 77,
   "metadata": {},
   "outputs": [
    {
     "name": "stdout",
     "output_type": "stream",
     "text": [
      "Runtime:  0.9430956840515137\n",
      "Macro F1 Score: 0.18198529411764705\n",
      "Accuracy: 0.5722543352601156\n"
     ]
    }
   ],
   "source": [
    "start_time = time.time()\n",
    "car = Car(train_data, MIN_SUPPORT, MIN_CONFIDENCE)\n",
    "car.generate_frequent()\n",
    "car.sort_rule(1)\n",
    "cba = Cba(train_data, car.rule)\n",
    "cba.apr_cover()\n",
    "rules = cba.strong_rules\n",
    "spare_rules = cba.spare_rules\n",
    "default = cba.default\n",
    "end_time = time.time()\n",
    "print(\"Runtime: \", compute_runtime(start_time, end_time))\n",
    "test = Validation(test_data, rules, default, 'group', spare_rules)"
   ]
  },
  {
   "cell_type": "markdown",
   "metadata": {},
   "source": [
    "## CBA 加上 LIFT(排序使用 confidence+support+lift 做 sort)\n"
   ]
  },
  {
   "cell_type": "code",
   "execution_count": 78,
   "metadata": {},
   "outputs": [
    {
     "name": "stdout",
     "output_type": "stream",
     "text": [
      "Runtime:  0.21889042854309082\n",
      "Macro F1 Score: 0.29084892743039703\n",
      "Accuracy: 0.5144508670520231\n"
     ]
    }
   ],
   "source": [
    "data_procesing = DataProcessing(\"car.data\")\n",
    "data_procesing.read_data()\n",
    "data_procesing.process()\n",
    "data = data_procesing.encoded_data\n",
    "train_data, test_data = data_procesing.split_train_test_data()\n",
    "start_time = time.time()\n",
    "car = Car(train_data, MIN_SUPPORT, MIN_CONFIDENCE, MIN_LIFT)\n",
    "car.generate_frequent()\n",
    "car.sort_rule(2)\n",
    "cba = Cba(train_data, car.rule)\n",
    "cba.cover()\n",
    "rules = cba.final_rules_\n",
    "default = cba.default\n",
    "end_time = time.time()\n",
    "print(\"Runtime: \", compute_runtime(start_time, end_time))\n",
    "test = Validation(test_data, rules, default, 'single')"
   ]
  },
  {
   "cell_type": "markdown",
   "metadata": {},
   "source": [
    "## CBA 加上隨機森林並拿掉重要性低的屬性\n"
   ]
  },
  {
   "cell_type": "code",
   "execution_count": 79,
   "metadata": {},
   "outputs": [
    {
     "name": "stdout",
     "output_type": "stream",
     "text": [
      "Runtime:  0.7103350162506104\n",
      "Macro F1 Score: 0.3758941344778255\n",
      "Accuracy: 0.6763005780346821\n"
     ]
    }
   ],
   "source": [
    "data_procesing = DataProcessing(\"car.data\")\n",
    "data_procesing.read_data()\n",
    "data_procesing.process()\n",
    "data_procesing.delete_low_importance()\n",
    "data = data_procesing.encoded_data\n",
    "train_data, test_data = data_procesing.split_train_test_data()\n",
    "start_time = time.time()\n",
    "car = Car(train_data, MIN_SUPPORT, MIN_CONFIDENCE)\n",
    "car.generate_frequent()\n",
    "car.sort_rule(1)\n",
    "cba = Cba(train_data, car.rule)\n",
    "cba.cover()\n",
    "rules = cba.final_rules_\n",
    "default = cba.default\n",
    "end_time = time.time()\n",
    "print(\"Runtime: \", compute_runtime(start_time, end_time))\n",
    "test = Validation(test_data, rules, default, 'single')"
   ]
  },
  {
   "cell_type": "markdown",
   "metadata": {},
   "source": [
    "## CBA 加上隨機森林並拿掉重要性低的屬性加上 lift\n"
   ]
  },
  {
   "cell_type": "code",
   "execution_count": 80,
   "metadata": {},
   "outputs": [
    {
     "name": "stdout",
     "output_type": "stream",
     "text": [
      "Runtime:  0.22856497764587402\n",
      "Macro F1 Score: 0.29084892743039703\n",
      "Accuracy: 0.5144508670520231\n"
     ]
    }
   ],
   "source": [
    "data_procesing = DataProcessing(\"car.data\")\n",
    "data_procesing.read_data()\n",
    "data_procesing.process()\n",
    "data_procesing.delete_low_importance()\n",
    "data = data_procesing.encoded_data\n",
    "train_data, test_data = data_procesing.split_train_test_data()\n",
    "start_time = time.time()\n",
    "car = Car(train_data, MIN_SUPPORT, MIN_CONFIDENCE, MIN_LIFT)\n",
    "car.generate_frequent()\n",
    "car.sort_rule(2)\n",
    "cba = Cba(train_data, car.rule)\n",
    "cba.cover()\n",
    "rules = cba.final_rules_\n",
    "default = cba.default\n",
    "end_time = time.time()\n",
    "print(\"Runtime: \", compute_runtime(start_time, end_time))\n",
    "test = Validation(test_data, rules, default, 'single')"
   ]
  },
  {
   "cell_type": "markdown",
   "metadata": {},
   "source": [
    "## CBA 加上 APR 的剪枝方法\n"
   ]
  },
  {
   "cell_type": "code",
   "execution_count": 85,
   "metadata": {},
   "outputs": [
    {
     "name": "stdout",
     "output_type": "stream",
     "text": [
      "Runtime:  0.9344675540924072\n",
      "Macro F1 Score: 0.18198529411764705\n",
      "Accuracy: 0.5722543352601156\n"
     ]
    }
   ],
   "source": [
    "data_procesing = DataProcessing(\"car.data\")\n",
    "data_procesing.read_data()\n",
    "data_procesing.process()\n",
    "data = data_procesing.encoded_data\n",
    "train_data, test_data = data_procesing.split_train_test_data()\n",
    "start_time = time.time()\n",
    "car = Car(train_data, MIN_SUPPORT, MIN_CONFIDENCE)\n",
    "car.generate_frequent()\n",
    "car.sort_rule(1)\n",
    "cba = Cba(train_data, car.rule)\n",
    "cba.apr_cover()\n",
    "rules = cba.strong_rules\n",
    "default = cba.default\n",
    "end_time = time.time()\n",
    "print(\"Runtime: \", compute_runtime(start_time, end_time))\n",
    "test = Validation(test_data, rules, default, 'single')"
   ]
  },
  {
   "cell_type": "markdown",
   "metadata": {},
   "source": [
    "## CBA 加上隨機森林並拿掉重要性低的屬性加上 lift 加上 APR 剪枝方法\n"
   ]
  },
  {
   "cell_type": "code",
   "execution_count": 86,
   "metadata": {},
   "outputs": [
    {
     "name": "stdout",
     "output_type": "stream",
     "text": [
      "Runtime:  0.03382706642150879\n",
      "Macro F1 Score: 0.18198529411764705\n",
      "Accuracy: 0.5722543352601156\n"
     ]
    }
   ],
   "source": [
    "data_procesing = DataProcessing(\"car.data\")\n",
    "data_procesing.read_data()\n",
    "data_procesing.process()\n",
    "data_procesing.delete_low_importance()\n",
    "data = data_procesing.encoded_data\n",
    "train_data, test_data = data_procesing.split_train_test_data()\n",
    "start_time = time.time()\n",
    "car = Car(train_data, MIN_SUPPORT, MIN_CONFIDENCE, MIN_LIFT)\n",
    "car.generate_frequent()\n",
    "car.sort_rule(2)\n",
    "cba = Cba(train_data, car.rule)\n",
    "cba.apr_cover()\n",
    "rules = cba.strong_rules\n",
    "default = cba.default\n",
    "end_time = time.time()\n",
    "print(\"Runtime: \", compute_runtime(start_time, end_time))\n",
    "test = Validation(test_data, rules, default, 'single')"
   ]
  },
  {
   "cell_type": "code",
   "execution_count": 106,
   "metadata": {},
   "outputs": [
    {
     "name": "stdout",
     "output_type": "stream",
     "text": [
      "apyori\n"
     ]
    },
    {
     "ename": "TypeError",
     "evalue": "'int' object is not iterable",
     "output_type": "error",
     "traceback": [
      "\u001b[1;31m---------------------------------------------------------------------------\u001b[0m",
      "\u001b[1;31mTypeError\u001b[0m                                 Traceback (most recent call last)",
      "Cell \u001b[1;32mIn[106], line 11\u001b[0m\n\u001b[0;32m      8\u001b[0m start_time \u001b[38;5;241m=\u001b[39m time\u001b[38;5;241m.\u001b[39mtime()\n\u001b[0;32m      9\u001b[0m association_rules \u001b[38;5;241m=\u001b[39m apriori(train_data, min_support\u001b[38;5;241m=\u001b[39mMIN_SUPPORT,\n\u001b[0;32m     10\u001b[0m                             min_confidence\u001b[38;5;241m=\u001b[39mMIN_CONFIDENCE, min_lift\u001b[38;5;241m=\u001b[39mMIN_LIFT)\n\u001b[1;32m---> 11\u001b[0m association_results \u001b[38;5;241m=\u001b[39m \u001b[38;5;28;43mlist\u001b[39;49m\u001b[43m(\u001b[49m\u001b[43massociation_rules\u001b[49m\u001b[43m)\u001b[49m\n\u001b[0;32m     12\u001b[0m end_time \u001b[38;5;241m=\u001b[39m time\u001b[38;5;241m.\u001b[39mtime()\n\u001b[0;32m     13\u001b[0m \u001b[38;5;28mprint\u001b[39m(\u001b[38;5;124m\"\u001b[39m\u001b[38;5;124mRuntime: \u001b[39m\u001b[38;5;124m\"\u001b[39m, compute_runtime(start_time, end_time))\n",
      "File \u001b[1;32mc:\\Users\\yie09\\Desktop\\cba_wl\\venv\\lib\\site-packages\\apyori.py:281\u001b[0m, in \u001b[0;36mapriori\u001b[1;34m(transactions, **kwargs)\u001b[0m\n\u001b[0;32m    277\u001b[0m _filter_ordered_statistics \u001b[38;5;241m=\u001b[39m kwargs\u001b[38;5;241m.\u001b[39mget(\n\u001b[0;32m    278\u001b[0m     \u001b[38;5;124m'\u001b[39m\u001b[38;5;124m_filter_ordered_statistics\u001b[39m\u001b[38;5;124m'\u001b[39m, filter_ordered_statistics)\n\u001b[0;32m    280\u001b[0m \u001b[38;5;66;03m# Calculate supports.\u001b[39;00m\n\u001b[1;32m--> 281\u001b[0m transaction_manager \u001b[38;5;241m=\u001b[39m \u001b[43mTransactionManager\u001b[49m\u001b[38;5;241;43m.\u001b[39;49m\u001b[43mcreate\u001b[49m\u001b[43m(\u001b[49m\u001b[43mtransactions\u001b[49m\u001b[43m)\u001b[49m\n\u001b[0;32m    282\u001b[0m support_records \u001b[38;5;241m=\u001b[39m _gen_support_records(\n\u001b[0;32m    283\u001b[0m     transaction_manager, min_support, max_length\u001b[38;5;241m=\u001b[39mmax_length)\n\u001b[0;32m    285\u001b[0m \u001b[38;5;66;03m# Calculate ordered stats.\u001b[39;00m\n",
      "File \u001b[1;32mc:\\Users\\yie09\\Desktop\\cba_wl\\venv\\lib\\site-packages\\apyori.py:121\u001b[0m, in \u001b[0;36mTransactionManager.create\u001b[1;34m(transactions)\u001b[0m\n\u001b[0;32m    119\u001b[0m \u001b[38;5;28;01mif\u001b[39;00m \u001b[38;5;28misinstance\u001b[39m(transactions, TransactionManager):\n\u001b[0;32m    120\u001b[0m     \u001b[38;5;28;01mreturn\u001b[39;00m transactions\n\u001b[1;32m--> 121\u001b[0m \u001b[38;5;28;01mreturn\u001b[39;00m \u001b[43mTransactionManager\u001b[49m\u001b[43m(\u001b[49m\u001b[43mtransactions\u001b[49m\u001b[43m)\u001b[49m\n",
      "File \u001b[1;32mc:\\Users\\yie09\\Desktop\\cba_wl\\venv\\lib\\site-packages\\apyori.py:44\u001b[0m, in \u001b[0;36mTransactionManager.__init__\u001b[1;34m(self, transactions)\u001b[0m\n\u001b[0;32m     41\u001b[0m \u001b[38;5;28mself\u001b[39m\u001b[38;5;241m.\u001b[39m__transaction_index_map \u001b[38;5;241m=\u001b[39m {}\n\u001b[0;32m     43\u001b[0m \u001b[38;5;28;01mfor\u001b[39;00m transaction \u001b[38;5;129;01min\u001b[39;00m transactions:\n\u001b[1;32m---> 44\u001b[0m     \u001b[38;5;28;43mself\u001b[39;49m\u001b[38;5;241;43m.\u001b[39;49m\u001b[43madd_transaction\u001b[49m\u001b[43m(\u001b[49m\u001b[43mtransaction\u001b[49m\u001b[43m)\u001b[49m\n",
      "File \u001b[1;32mc:\\Users\\yie09\\Desktop\\cba_wl\\venv\\lib\\site-packages\\apyori.py:53\u001b[0m, in \u001b[0;36mTransactionManager.add_transaction\u001b[1;34m(self, transaction)\u001b[0m\n\u001b[0;32m     46\u001b[0m \u001b[38;5;28;01mdef\u001b[39;00m \u001b[38;5;21madd_transaction\u001b[39m(\u001b[38;5;28mself\u001b[39m, transaction):\n\u001b[0;32m     47\u001b[0m \u001b[38;5;250m    \u001b[39m\u001b[38;5;124;03m\"\"\"\u001b[39;00m\n\u001b[0;32m     48\u001b[0m \u001b[38;5;124;03m    Add a transaction.\u001b[39;00m\n\u001b[0;32m     49\u001b[0m \n\u001b[0;32m     50\u001b[0m \u001b[38;5;124;03m    Arguments:\u001b[39;00m\n\u001b[0;32m     51\u001b[0m \u001b[38;5;124;03m        transaction -- A transaction as an iterable object (eg. ['A', 'B']).\u001b[39;00m\n\u001b[0;32m     52\u001b[0m \u001b[38;5;124;03m    \"\"\"\u001b[39;00m\n\u001b[1;32m---> 53\u001b[0m     \u001b[38;5;28;01mfor\u001b[39;00m item \u001b[38;5;129;01min\u001b[39;00m transaction:\n\u001b[0;32m     54\u001b[0m         \u001b[38;5;28;01mif\u001b[39;00m item \u001b[38;5;129;01mnot\u001b[39;00m \u001b[38;5;129;01min\u001b[39;00m \u001b[38;5;28mself\u001b[39m\u001b[38;5;241m.\u001b[39m__transaction_index_map:\n\u001b[0;32m     55\u001b[0m             \u001b[38;5;28mself\u001b[39m\u001b[38;5;241m.\u001b[39m__items\u001b[38;5;241m.\u001b[39mappend(item)\n",
      "\u001b[1;31mTypeError\u001b[0m: 'int' object is not iterable"
     ]
    }
   ],
   "source": [
    "from apyori import apriori\n",
    "data_procesing = DataProcessing(\"car.data\")\n",
    "data_procesing.read_data()\n",
    "data_procesing.process()\n",
    "train_data, test_data = data_procesing.split_train_test_data()\n",
    "\n",
    "print(\"apyori\")\n",
    "start_time = time.time()\n",
    "association_rules = apriori(train_data, min_support=MIN_SUPPORT,\n",
    "                            min_confidence=MIN_CONFIDENCE, min_lift=MIN_LIFT)\n",
    "association_results = list(association_rules)\n",
    "end_time = time.time()\n",
    "print(\"Runtime: \", compute_runtime(start_time, end_time))"
   ]
  }
 ],
 "metadata": {
  "kernelspec": {
   "display_name": "venv",
   "language": "python",
   "name": "python3"
  },
  "language_info": {
   "codemirror_mode": {
    "name": "ipython",
    "version": 3
   },
   "file_extension": ".py",
   "mimetype": "text/x-python",
   "name": "python",
   "nbconvert_exporter": "python",
   "pygments_lexer": "ipython3",
   "version": "3.10.7"
  },
  "orig_nbformat": 4
 },
 "nbformat": 4,
 "nbformat_minor": 2
}
