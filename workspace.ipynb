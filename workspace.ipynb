{
 "cells": [
  {
   "cell_type": "code",
   "execution_count": 1,
   "metadata": {},
   "outputs": [],
   "source": [
    "from DataProcessing import DataProcessing"
   ]
  },
  {
   "cell_type": "code",
   "execution_count": 2,
   "metadata": {},
   "outputs": [],
   "source": [
    "import pandas as pd"
   ]
  },
  {
   "cell_type": "code",
   "execution_count": 3,
   "metadata": {},
   "outputs": [
    {
     "name": "stdout",
     "output_type": "stream",
     "text": [
      "       0  1  2   3  4  5   6  7  8  9  10  11  12  13  class\n",
      "0      1  7  0   9  3  4   1  1  4  1   0   0   1  39      0\n",
      "1      2  6  0   9  3  2   4  0  4  1   0   0   0  39      0\n",
      "2      1  4  0  11  2  0   6  1  4  1   0   0   1  39      0\n",
      "3      2  4  0   1  1  2   6  0  2  1   0   0   1  39      0\n",
      "4      0  4  1   9  3  2  10  5  2  0   0   0   1   5      0\n",
      "...   .. .. ..  .. .. ..  .. .. .. ..  ..  ..  ..  ..    ...\n",
      "32556  0  4  0   7  3  2  13  5  4  0   0   0   1  39      0\n",
      "32557  1  4  0  11  2  2   7  0  4  1   0   0   1  39      1\n",
      "32558  2  4  0  11  2  6   1  4  4  0   0   0   1  39      0\n",
      "32559  0  4  0  11  2  4   1  3  4  1   0   0   0  39      0\n",
      "32560  2  5  0  11  2  2   4  5  4  0   0   0   1  39      1\n",
      "\n",
      "[32561 rows x 15 columns]\n"
     ]
    }
   ],
   "source": [
    "data_procesing = DataProcessing(\"adult.data\")\n",
    "data_procesing.read_data()\n",
    "data_procesing.process()\n",
    "# data_procesing.get_feature_importances()\n",
    "print(data_procesing.encoded_data)\n",
    "# print(data_procesing.feature_importances)"
   ]
  },
  {
   "cell_type": "code",
   "execution_count": 20,
   "metadata": {},
   "outputs": [
    {
     "ename": "AttributeError",
     "evalue": "'DataFrame' object has no attribute 'append'",
     "output_type": "error",
     "traceback": [
      "\u001b[1;31m---------------------------------------------------------------------------\u001b[0m",
      "\u001b[1;31mAttributeError\u001b[0m                            Traceback (most recent call last)",
      "Cell \u001b[1;32mIn[20], line 17\u001b[0m\n\u001b[0;32m     15\u001b[0m     \u001b[39mfor\u001b[39;00m j \u001b[39min\u001b[39;00m value_counts:\n\u001b[0;32m     16\u001b[0m         \u001b[39mif\u001b[39;00m(value_counts[j] \u001b[39m/\u001b[39m \u001b[39mlen\u001b[39m(data) \u001b[39m>\u001b[39m\u001b[39m=\u001b[39m SUPPORT):\n\u001b[1;32m---> 17\u001b[0m             frequent_items\u001b[39m.\u001b[39;49mappend()\n\u001b[0;32m     18\u001b[0m     \u001b[39mbreak\u001b[39;00m\n\u001b[0;32m     20\u001b[0m frequent_items\n",
      "File \u001b[1;32mc:\\Users\\yie09\\Desktop\\cba_wl\\venv\\lib\\site-packages\\pandas\\core\\generic.py:5989\u001b[0m, in \u001b[0;36mNDFrame.__getattr__\u001b[1;34m(self, name)\u001b[0m\n\u001b[0;32m   5982\u001b[0m \u001b[39mif\u001b[39;00m (\n\u001b[0;32m   5983\u001b[0m     name \u001b[39mnot\u001b[39;00m \u001b[39min\u001b[39;00m \u001b[39mself\u001b[39m\u001b[39m.\u001b[39m_internal_names_set\n\u001b[0;32m   5984\u001b[0m     \u001b[39mand\u001b[39;00m name \u001b[39mnot\u001b[39;00m \u001b[39min\u001b[39;00m \u001b[39mself\u001b[39m\u001b[39m.\u001b[39m_metadata\n\u001b[0;32m   5985\u001b[0m     \u001b[39mand\u001b[39;00m name \u001b[39mnot\u001b[39;00m \u001b[39min\u001b[39;00m \u001b[39mself\u001b[39m\u001b[39m.\u001b[39m_accessors\n\u001b[0;32m   5986\u001b[0m     \u001b[39mand\u001b[39;00m \u001b[39mself\u001b[39m\u001b[39m.\u001b[39m_info_axis\u001b[39m.\u001b[39m_can_hold_identifiers_and_holds_name(name)\n\u001b[0;32m   5987\u001b[0m ):\n\u001b[0;32m   5988\u001b[0m     \u001b[39mreturn\u001b[39;00m \u001b[39mself\u001b[39m[name]\n\u001b[1;32m-> 5989\u001b[0m \u001b[39mreturn\u001b[39;00m \u001b[39mobject\u001b[39;49m\u001b[39m.\u001b[39;49m\u001b[39m__getattribute__\u001b[39;49m(\u001b[39mself\u001b[39;49m, name)\n",
      "\u001b[1;31mAttributeError\u001b[0m: 'DataFrame' object has no attribute 'append'"
     ]
    }
   ],
   "source": [
    "data = data_procesing.encoded_data\n",
    "columns = list(data.columns)\n",
    "columns.append(\"condition_support\")\n",
    "columns.append(\"support\")\n",
    "columns.append(\"confidence\")\n",
    "columns.append(\"lift\")\n",
    "frequent_items = pd.DataFrame(columns=columns)\n",
    "\n",
    "SUPPORT = 0.2\n",
    "CONFIDENCE = 0.7\n",
    "LIFT = 1.2\n",
    "\n",
    "for i in list(data.columns)[:-1]:\n",
    "    value_counts = dict(data[i].value_counts())\n",
    "    for j in value_counts:\n",
    "        if (value_counts[j] / len(data) >= SUPPORT):\n",
    "            frequent_items.append()\n",
    "    break\n",
    "\n",
    "frequent_items"
   ]
  }
 ],
 "metadata": {
  "kernelspec": {
   "display_name": "venv",
   "language": "python",
   "name": "python3"
  },
  "language_info": {
   "codemirror_mode": {
    "name": "ipython",
    "version": 3
   },
   "file_extension": ".py",
   "mimetype": "text/x-python",
   "name": "python",
   "nbconvert_exporter": "python",
   "pygments_lexer": "ipython3",
   "version": "3.10.7"
  },
  "orig_nbformat": 4
 },
 "nbformat": 4,
 "nbformat_minor": 2
}
