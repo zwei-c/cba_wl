{
 "cells": [
  {
   "cell_type": "code",
   "execution_count": 104,
   "metadata": {},
   "outputs": [],
   "source": [
    "from DataProcessing import DataProcessing\n",
    "from Car import Car\n",
    "from Cba import Cba\n",
    "from RuleItem import RuleItem"
   ]
  },
  {
   "cell_type": "code",
   "execution_count": 105,
   "metadata": {},
   "outputs": [],
   "source": [
    "import pandas as pd\n",
    "import time"
   ]
  },
  {
   "cell_type": "code",
   "execution_count": 110,
   "metadata": {},
   "outputs": [
    {
     "ename": "KeyboardInterrupt",
     "evalue": "",
     "output_type": "error",
     "traceback": [
      "\u001b[0;31m---------------------------------------------------------------------------\u001b[0m",
      "\u001b[0;31mKeyboardInterrupt\u001b[0m                         Traceback (most recent call last)",
      "Cell \u001b[0;32mIn[110], line 8\u001b[0m\n\u001b[1;32m      6\u001b[0m MIN_CONFIDENCE \u001b[39m=\u001b[39m \u001b[39m0.7\u001b[39m\n\u001b[1;32m      7\u001b[0m car \u001b[39m=\u001b[39m Car(data, MIN_SUPPORT, MIN_CONFIDENCE)\n\u001b[0;32m----> 8\u001b[0m car\u001b[39m.\u001b[39;49mgenerate_frequent()\n\u001b[1;32m      9\u001b[0m car\u001b[39m.\u001b[39msort_rule()\n\u001b[1;32m     10\u001b[0m cba \u001b[39m=\u001b[39m Cba(data, car\u001b[39m.\u001b[39mrule)\n",
      "File \u001b[0;32m~/development/cba_wl/Car.py:69\u001b[0m, in \u001b[0;36mgenerate_frequent\u001b[0;34m(self)\u001b[0m\n\u001b[1;32m     67\u001b[0m \u001b[39mfor\u001b[39;00m k \u001b[39min\u001b[39;00m label:\n\u001b[1;32m     68\u001b[0m     ruleitem \u001b[39m=\u001b[39m RuleItem()\n\u001b[0;32m---> 69\u001b[0m     candidate \u001b[39m=\u001b[39m {\u001b[39m'\u001b[39m\u001b[39mconditions\u001b[39m\u001b[39m'\u001b[39m: {i: j}, \u001b[39m'\u001b[39m\u001b[39mclass\u001b[39m\u001b[39m'\u001b[39m: k}\n\u001b[1;32m     70\u001b[0m     \u001b[39mif\u001b[39;00m (ruleitem\u001b[39m.\u001b[39mset_ruleitem(candidate, data, min_support, min_confidence)):\n\u001b[1;32m     71\u001b[0m         \u001b[39mself\u001b[39m\u001b[39m.\u001b[39mrule\u001b[39m.\u001b[39mappend(ruleitem)\n",
      "File \u001b[0;32m~/development/cba_wl/Car.py:47\u001b[0m, in \u001b[0;36mCar.generate_candidate\u001b[0;34m(self, rule_temp)\u001b[0m\n\u001b[1;32m     45\u001b[0m candidate \u001b[39m=\u001b[39m []\n\u001b[1;32m     46\u001b[0m \u001b[39mfor\u001b[39;00m i \u001b[39min\u001b[39;00m \u001b[39mrange\u001b[39m(\u001b[39m0\u001b[39m, \u001b[39mlen\u001b[39m(rule_temp)):\n\u001b[0;32m---> 47\u001b[0m     \u001b[39mfor\u001b[39;00m j \u001b[39min\u001b[39;00m \u001b[39mrange\u001b[39m(i\u001b[39m+\u001b[39m\u001b[39m1\u001b[39m, \u001b[39mlen\u001b[39m(rule_temp)):\n\u001b[1;32m     48\u001b[0m         new_item \u001b[39m=\u001b[39m join(rule_temp[i], rule_temp[j])\n\u001b[1;32m     49\u001b[0m         \u001b[39mif\u001b[39;00m new_item \u001b[39m!=\u001b[39m \u001b[39mNone\u001b[39;00m:\n",
      "File \u001b[0;32m~/development/cba_wl/RuleItem.py:29\u001b[0m, in \u001b[0;36mRuleItem.set_ruleitem\u001b[0;34m(self, item, data, min_support, min_confidence)\u001b[0m\n\u001b[1;32m     26\u001b[0m     \u001b[39melse\u001b[39;00m:\n\u001b[1;32m     27\u001b[0m         data_frame_conditions \u001b[39m&\u001b[39m\u001b[39m=\u001b[39m data[key] \u001b[39m==\u001b[39m conditions[key]\n\u001b[1;32m     28\u001b[0m data_frame_conditions_with_class \u001b[39m=\u001b[39m data_frame_conditions \u001b[39m&\u001b[39m (\n\u001b[0;32m---> 29\u001b[0m     data[\u001b[39m\"\u001b[39;49m\u001b[39mclass\u001b[39;49m\u001b[39m\"\u001b[39;49m] \u001b[39m==\u001b[39;49m class_)\n\u001b[1;32m     31\u001b[0m support \u001b[39m=\u001b[39m data[data_frame_conditions_with_class]\u001b[39m.\u001b[39mshape[\u001b[39m0\u001b[39m] \u001b[39m/\u001b[39m \\\n\u001b[1;32m     32\u001b[0m     data\u001b[39m.\u001b[39mshape[\u001b[39m0\u001b[39m]\n\u001b[1;32m     33\u001b[0m condition_support \u001b[39m=\u001b[39m data[data_frame_conditions]\u001b[39m.\u001b[39mshape[\u001b[39m0\u001b[39m] \u001b[39m/\u001b[39m \\\n\u001b[1;32m     34\u001b[0m     data\u001b[39m.\u001b[39mshape[\u001b[39m0\u001b[39m]\n",
      "File \u001b[0;32m~/development/cba_wl/venv/lib/python3.11/site-packages/pandas/core/ops/common.py:81\u001b[0m, in \u001b[0;36m_unpack_zerodim_and_defer.<locals>.new_method\u001b[0;34m(self, other)\u001b[0m\n\u001b[1;32m     77\u001b[0m             \u001b[39mreturn\u001b[39;00m \u001b[39mNotImplemented\u001b[39m\n\u001b[1;32m     79\u001b[0m other \u001b[39m=\u001b[39m item_from_zerodim(other)\n\u001b[0;32m---> 81\u001b[0m \u001b[39mreturn\u001b[39;00m method(\u001b[39mself\u001b[39;49m, other)\n",
      "File \u001b[0;32m~/development/cba_wl/venv/lib/python3.11/site-packages/pandas/core/arraylike.py:40\u001b[0m, in \u001b[0;36mOpsMixin.__eq__\u001b[0;34m(self, other)\u001b[0m\n\u001b[1;32m     38\u001b[0m \u001b[39m@unpack_zerodim_and_defer\u001b[39m(\u001b[39m\"\u001b[39m\u001b[39m__eq__\u001b[39m\u001b[39m\"\u001b[39m)\n\u001b[1;32m     39\u001b[0m \u001b[39mdef\u001b[39;00m \u001b[39m__eq__\u001b[39m(\u001b[39mself\u001b[39m, other):\n\u001b[0;32m---> 40\u001b[0m     \u001b[39mreturn\u001b[39;00m \u001b[39mself\u001b[39;49m\u001b[39m.\u001b[39;49m_cmp_method(other, operator\u001b[39m.\u001b[39;49meq)\n",
      "File \u001b[0;32m~/development/cba_wl/venv/lib/python3.11/site-packages/pandas/core/series.py:6096\u001b[0m, in \u001b[0;36mSeries._cmp_method\u001b[0;34m(self, other, op)\u001b[0m\n\u001b[1;32m   6093\u001b[0m rvalues \u001b[39m=\u001b[39m extract_array(other, extract_numpy\u001b[39m=\u001b[39m\u001b[39mTrue\u001b[39;00m, extract_range\u001b[39m=\u001b[39m\u001b[39mTrue\u001b[39;00m)\n\u001b[1;32m   6095\u001b[0m \u001b[39mwith\u001b[39;00m np\u001b[39m.\u001b[39merrstate(\u001b[39mall\u001b[39m\u001b[39m=\u001b[39m\u001b[39m\"\u001b[39m\u001b[39mignore\u001b[39m\u001b[39m\"\u001b[39m):\n\u001b[0;32m-> 6096\u001b[0m     res_values \u001b[39m=\u001b[39m ops\u001b[39m.\u001b[39;49mcomparison_op(lvalues, rvalues, op)\n\u001b[1;32m   6098\u001b[0m \u001b[39mreturn\u001b[39;00m \u001b[39mself\u001b[39m\u001b[39m.\u001b[39m_construct_result(res_values, name\u001b[39m=\u001b[39mres_name)\n",
      "File \u001b[0;32m~/development/cba_wl/venv/lib/python3.11/site-packages/pandas/core/ops/array_ops.py:292\u001b[0m, in \u001b[0;36mcomparison_op\u001b[0;34m(left, right, op)\u001b[0m\n\u001b[1;32m    288\u001b[0m \u001b[39melif\u001b[39;00m is_numeric_v_string_like(lvalues, rvalues):\n\u001b[1;32m    289\u001b[0m     \u001b[39m# GH#36377 going through the numexpr path would incorrectly raise\u001b[39;00m\n\u001b[1;32m    290\u001b[0m     \u001b[39mreturn\u001b[39;00m invalid_comparison(lvalues, rvalues, op)\n\u001b[0;32m--> 292\u001b[0m \u001b[39melif\u001b[39;00m is_object_dtype(lvalues\u001b[39m.\u001b[39;49mdtype) \u001b[39mor\u001b[39;00m \u001b[39misinstance\u001b[39m(rvalues, \u001b[39mstr\u001b[39m):\n\u001b[1;32m    293\u001b[0m     res_values \u001b[39m=\u001b[39m comp_method_OBJECT_ARRAY(op, lvalues, rvalues)\n\u001b[1;32m    295\u001b[0m \u001b[39melse\u001b[39;00m:\n",
      "File \u001b[0;32m~/development/cba_wl/venv/lib/python3.11/site-packages/pandas/core/dtypes/common.py:158\u001b[0m, in \u001b[0;36mis_object_dtype\u001b[0;34m(arr_or_dtype)\u001b[0m\n\u001b[1;32m    148\u001b[0m \u001b[39m    \u001b[39m\u001b[39m\"\"\"\u001b[39;00m\n\u001b[1;32m    149\u001b[0m \u001b[39m    Evaluate if the tipo is a subclass of the klasses\u001b[39;00m\n\u001b[1;32m    150\u001b[0m \u001b[39m    and not a datetimelike.\u001b[39;00m\n\u001b[1;32m    151\u001b[0m \u001b[39m    \"\"\"\u001b[39;00m\n\u001b[1;32m    152\u001b[0m     \u001b[39mreturn\u001b[39;00m \u001b[39mlambda\u001b[39;00m tipo: (\n\u001b[1;32m    153\u001b[0m         \u001b[39missubclass\u001b[39m(tipo, klasses)\n\u001b[1;32m    154\u001b[0m         \u001b[39mand\u001b[39;00m \u001b[39mnot\u001b[39;00m \u001b[39missubclass\u001b[39m(tipo, (np\u001b[39m.\u001b[39mdatetime64, np\u001b[39m.\u001b[39mtimedelta64))\n\u001b[1;32m    155\u001b[0m     )\n\u001b[0;32m--> 158\u001b[0m \u001b[39mdef\u001b[39;00m \u001b[39mis_object_dtype\u001b[39m(arr_or_dtype) \u001b[39m-\u001b[39m\u001b[39m>\u001b[39m \u001b[39mbool\u001b[39m:\n\u001b[1;32m    159\u001b[0m \u001b[39m    \u001b[39m\u001b[39m\"\"\"\u001b[39;00m\n\u001b[1;32m    160\u001b[0m \u001b[39m    Check whether an array-like or dtype is of the object dtype.\u001b[39;00m\n\u001b[1;32m    161\u001b[0m \n\u001b[0;32m   (...)\u001b[0m\n\u001b[1;32m    184\u001b[0m \u001b[39m    False\u001b[39;00m\n\u001b[1;32m    185\u001b[0m \u001b[39m    \"\"\"\u001b[39;00m\n\u001b[1;32m    186\u001b[0m     \u001b[39mreturn\u001b[39;00m _is_dtype_type(arr_or_dtype, classes(np\u001b[39m.\u001b[39mobject_))\n",
      "\u001b[0;31mKeyboardInterrupt\u001b[0m: "
     ]
    }
   ],
   "source": [
    "data_procesing = DataProcessing(\"adult.data\")\n",
    "data_procesing.read_data()\n",
    "data_procesing.process()\n",
    "data = data_procesing.encoded_data\n",
    "MIN_SUPPORT = 0.1\n",
    "MIN_CONFIDENCE = 0.7\n",
    "car = Car(data, MIN_SUPPORT, MIN_CONFIDENCE)\n",
    "car.generate_frequent()\n",
    "car.sort_rule()\n",
    "cba = Cba(data, car.rule)\n",
    "cba.cover()\n",
    "\n",
    "print(\"Final Rules:\")\n",
    "for rule in cba.final_rules:\n",
    "    rule['rule'].print_ruleitem()\n",
    "    print(f\"Error: {rule['error']}\")\n",
    "    print(\"\")\n",
    "print(f\"Default: {cba.default}\")"
   ]
  }
 ],
 "metadata": {
  "kernelspec": {
   "display_name": "venv",
   "language": "python",
   "name": "python3"
  },
  "language_info": {
   "codemirror_mode": {
    "name": "ipython",
    "version": 3
   },
   "file_extension": ".py",
   "mimetype": "text/x-python",
   "name": "python",
   "nbconvert_exporter": "python",
   "pygments_lexer": "ipython3",
   "version": "3.11.4"
  },
  "orig_nbformat": 4
 },
 "nbformat": 4,
 "nbformat_minor": 2
}
