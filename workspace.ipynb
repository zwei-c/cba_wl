{
 "cells": [
  {
   "cell_type": "code",
   "execution_count": 1,
   "metadata": {},
   "outputs": [],
   "source": [
    "from DataProcessing import DataProcessing\n",
    "from Car import Car\n",
    "from Cba import Cba\n",
    "from Validation import Validation"
   ]
  },
  {
   "cell_type": "markdown",
   "metadata": {},
   "source": [
    "## 原版 CBA\n"
   ]
  },
  {
   "cell_type": "code",
   "execution_count": 2,
   "metadata": {},
   "outputs": [
    {
     "name": "stdout",
     "output_type": "stream",
     "text": [
      "              precision    recall  f1-score   support\n",
      "\n",
      "           0       0.37      0.84      0.51        63\n",
      "           1       0.00      0.00      0.00        46\n",
      "           2       0.95      0.97      0.96       198\n",
      "           3       0.00      0.00      0.00        39\n",
      "\n",
      "    accuracy                           0.71       346\n",
      "   macro avg       0.33      0.45      0.37       346\n",
      "weighted avg       0.61      0.71      0.64       346\n",
      "\n"
     ]
    }
   ],
   "source": [
    "data_procesing = DataProcessing(\"car.data\")\n",
    "data_procesing.read_data()\n",
    "data_procesing.process()\n",
    "data = data_procesing.encoded_data\n",
    "train_data, test_data = data_procesing.split_train_test_data()\n",
    "MIN_SUPPORT = 0.1\n",
    "MIN_CONFIDENCE = 0.8\n",
    "car = Car(train_data, MIN_SUPPORT, MIN_CONFIDENCE)\n",
    "car.generate_frequent()\n",
    "car.sort_rule()\n",
    "cba = Cba(train_data, car.rule)\n",
    "cba.cover()\n",
    "rules = cba.final_rules_\n",
    "default = cba.default\n",
    "test = Validation(test_data, rules, default)"
   ]
  },
  {
   "cell_type": "markdown",
   "metadata": {},
   "source": [
    "## CBA 加入 LIFT\n"
   ]
  },
  {
   "cell_type": "code",
   "execution_count": 17,
   "metadata": {},
   "outputs": [
    {
     "name": "stdout",
     "output_type": "stream",
     "text": [
      "              precision    recall  f1-score   support\n",
      "\n",
      "           0       0.27      1.00      0.42        63\n",
      "           1       0.00      0.00      0.00        46\n",
      "           2       1.00      0.57      0.72       198\n",
      "           3       0.00      0.00      0.00        39\n",
      "\n",
      "    accuracy                           0.51       346\n",
      "   macro avg       0.32      0.39      0.29       346\n",
      "weighted avg       0.62      0.51      0.49       346\n",
      "\n"
     ]
    }
   ],
   "source": [
    "train_data, test_data = data_procesing.split_train_test_data()\n",
    "MIN_SUPPORT = 0.1\n",
    "MIN_CONFIDENCE = 0.8\n",
    "MIN_LIFT = 1.4\n",
    "car = Car(train_data, MIN_SUPPORT, MIN_CONFIDENCE, MIN_LIFT)\n",
    "car.generate_frequent()\n",
    "car.sort_rule()\n",
    "cba = Cba(train_data, car.rule)\n",
    "cba.cover()\n",
    "rules = cba.final_rules_\n",
    "default = cba.default\n",
    "test = Validation(test_data, rules, default)"
   ]
  },
  {
   "cell_type": "code",
   "execution_count": 22,
   "metadata": {},
   "outputs": [
    {
     "name": "stdout",
     "output_type": "stream",
     "text": [
      "[2. 1. 1. 2. 1. 2.]\n"
     ]
    }
   ],
   "source": [
    "import numpy as np\n",
    "\n",
    "# Sample array of feature importances from Random Forest\n",
    "# Assume these are between 0 and 1\n",
    "feature_importances = np.array([0.1, 0.2, 0.05, 0.15, 0.5])\n",
    "\n",
    "# Apply logarithmic scaling and then linearly scale up by a factor of 10\n",
    "# Add 1 to avoid log(0)\n",
    "\n",
    "data_procesing = DataProcessing(\"car.data\")\n",
    "data_procesing.read_data()\n",
    "data_procesing.process()\n",
    "data_procesing.get_feature_importances()\n",
    "feature_importances = np.array(data_procesing.feature_importances)\n",
    "scaled_importances = np.round(np.log(feature_importances + 1) * 10)\n",
    "print(scaled_importances)"
   ]
  },
  {
   "cell_type": "code",
   "execution_count": null,
   "metadata": {},
   "outputs": [],
   "source": [
    "import pandas as pd\n",
    "\n",
    "\n",
    "class RuleItem_Weight():\n",
    "    def __init__(self):\n",
    "        self.conditions: dict = {}\n",
    "        self.class_: str = \"\"\n",
    "        self.support: float = 0.0\n",
    "        self.confidence: float = 0.0\n",
    "        self.lift: float = 0.0\n",
    "        self.is_ruleitem = False\n",
    "\n",
    "    def set_ruleitem(self, item: dict, data: pd.DataFrame, min_support: float = 0.01, min_confidence: float = 0.1, min_lift: float = 0.0, weights: list = []):\n",
    "        # Declare Instance Variables\n",
    "        support: float = 0.0\n",
    "        condition_support: float = 0.0\n",
    "        confidence: float = 0.0\n",
    "        # Definite Instance Variables\n",
    "        conditions = item[\"conditions\"]\n",
    "        class_ = item[\"class\"]\n",
    "        data_frame_conditions = None\n",
    "\n",
    "        importances: float = 0.0\n",
    "        n = 0\n",
    "        for key in conditions:\n",
    "            importances += weights[key]\n",
    "            n += 1\n",
    "            if (data_frame_conditions is None):\n",
    "                data_frame_conditions = data[key] == conditions[key]\n",
    "            else:\n",
    "                data_frame_conditions &= data[key] == conditions[key]\n",
    "\n",
    "        data_frame_conditions_with_class = data_frame_conditions & (\n",
    "            data[\"class\"] == class_)\n",
    "\n",
    "        weights = importances / n\n",
    "\n",
    "        support = data[data_frame_conditions_with_class].shape[0] / \\\n",
    "            data.shape[0] * weights\n",
    "\n",
    "        condition_support = data[data_frame_conditions].shape[0] / \\\n",
    "            data.shape[0]\n",
    "        if support >= min_support:\n",
    "            confidence = support / condition_support\n",
    "            if confidence >= min_confidence:\n",
    "                lift = confidence / \\\n",
    "                    (data[data[\"class\"] == class_].shape[0] / data.shape[0])\n",
    "\n",
    "                if (min_lift != 0.0):\n",
    "                    if lift < min_lift:\n",
    "                        del data\n",
    "                        return False\n",
    "\n",
    "                self.conditions = conditions\n",
    "                self.class_ = class_\n",
    "                self.support = support\n",
    "                self.confidence = confidence\n",
    "                self.is_ruleitem = True\n",
    "                self.lift = lift\n",
    "                del data\n",
    "                return True\n",
    "            else:\n",
    "                del data\n",
    "                return False\n",
    "        else:\n",
    "            del data\n",
    "            return False\n",
    "\n",
    "    def print_ruleitem(self):\n",
    "        if not self.is_ruleitem:\n",
    "            print(\"This is not a ruleitem\")\n",
    "            return\n",
    "        string = \"\"\n",
    "        for key, value in self.conditions.items():\n",
    "            string += f\"{key}={value} \"\n",
    "        string += f\"=> class={self.class_} \"\n",
    "        string += f\"(support={self.support}, confidence={self.confidence}, lift={self.lift})\"\n",
    "        print(string)"
   ]
  }
 ],
 "metadata": {
  "kernelspec": {
   "display_name": "venv",
   "language": "python",
   "name": "python3"
  },
  "language_info": {
   "codemirror_mode": {
    "name": "ipython",
    "version": 3
   },
   "file_extension": ".py",
   "mimetype": "text/x-python",
   "name": "python",
   "nbconvert_exporter": "python",
   "pygments_lexer": "ipython3",
   "version": "3.11.4"
  },
  "orig_nbformat": 4
 },
 "nbformat": 4,
 "nbformat_minor": 2
}
