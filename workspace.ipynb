{
 "cells": [
  {
   "cell_type": "code",
   "execution_count": 1,
   "metadata": {},
   "outputs": [],
   "source": [
    "from DataProcessing import DataProcessing\n",
    "from Car import Car\n",
    "from Cba import Cba\n",
    "from Validation import Validation"
   ]
  },
  {
   "cell_type": "markdown",
   "metadata": {},
   "source": [
    "## 原版 CBA\n"
   ]
  },
  {
   "cell_type": "code",
   "execution_count": 2,
   "metadata": {},
   "outputs": [
    {
     "name": "stdout",
     "output_type": "stream",
     "text": [
      "              precision    recall  f1-score   support\n",
      "\n",
      "           0       0.37      0.84      0.51        63\n",
      "           1       0.00      0.00      0.00        46\n",
      "           2       0.95      0.97      0.96       198\n",
      "           3       0.00      0.00      0.00        39\n",
      "\n",
      "    accuracy                           0.71       346\n",
      "   macro avg       0.33      0.45      0.37       346\n",
      "weighted avg       0.61      0.71      0.64       346\n",
      "\n"
     ]
    }
   ],
   "source": [
    "data_procesing = DataProcessing(\"car.data\")\n",
    "data_procesing.read_data()\n",
    "data_procesing.process()\n",
    "data = data_procesing.encoded_data\n",
    "train_data, test_data = data_procesing.split_train_test_data()\n",
    "MIN_SUPPORT = 0.1\n",
    "MIN_CONFIDENCE = 0.8\n",
    "car = Car(train_data, MIN_SUPPORT, MIN_CONFIDENCE)\n",
    "car.generate_frequent()\n",
    "car.sort_rule()\n",
    "cba = Cba(train_data, car.rule)\n",
    "cba.cover()\n",
    "rules = cba.final_rules_\n",
    "default = cba.default\n",
    "test = Validation(test_data, rules, default)"
   ]
  },
  {
   "cell_type": "markdown",
   "metadata": {},
   "source": [
    "## CBA 加入 LIFT\n"
   ]
  },
  {
   "cell_type": "code",
   "execution_count": 17,
   "metadata": {},
   "outputs": [
    {
     "name": "stdout",
     "output_type": "stream",
     "text": [
      "              precision    recall  f1-score   support\n",
      "\n",
      "           0       0.27      1.00      0.42        63\n",
      "           1       0.00      0.00      0.00        46\n",
      "           2       1.00      0.57      0.72       198\n",
      "           3       0.00      0.00      0.00        39\n",
      "\n",
      "    accuracy                           0.51       346\n",
      "   macro avg       0.32      0.39      0.29       346\n",
      "weighted avg       0.62      0.51      0.49       346\n",
      "\n"
     ]
    }
   ],
   "source": [
    "train_data, test_data = data_procesing.split_train_test_data()\n",
    "MIN_SUPPORT = 0.1\n",
    "MIN_CONFIDENCE = 0.8\n",
    "MIN_LIFT = 1.4\n",
    "car = Car(train_data, MIN_SUPPORT, MIN_CONFIDENCE, MIN_LIFT)\n",
    "car.generate_frequent()\n",
    "car.sort_rule()\n",
    "cba = Cba(train_data, car.rule)\n",
    "cba.cover()\n",
    "rules = cba.final_rules_\n",
    "default = cba.default\n",
    "test = Validation(test_data, rules, default)"
   ]
  },
  {
   "cell_type": "code",
   "execution_count": 18,
   "metadata": {},
   "outputs": [
    {
     "name": "stdout",
     "output_type": "stream",
     "text": [
      "[0.19075291 0.15874729 0.05813035 0.22113893 0.08141021 0.28982031]\n"
     ]
    }
   ],
   "source": [
    "data_procesing = DataProcessing(\"car.data\")\n",
    "data_procesing.read_data()\n",
    "data_procesing.process()\n",
    "data_procesing.get_feature_importances()\n",
    "print(data_procesing.feature_importances)"
   ]
  }
 ],
 "metadata": {
  "kernelspec": {
   "display_name": "venv",
   "language": "python",
   "name": "python3"
  },
  "language_info": {
   "codemirror_mode": {
    "name": "ipython",
    "version": 3
   },
   "file_extension": ".py",
   "mimetype": "text/x-python",
   "name": "python",
   "nbconvert_exporter": "python",
   "pygments_lexer": "ipython3",
   "version": "3.11.4"
  },
  "orig_nbformat": 4
 },
 "nbformat": 4,
 "nbformat_minor": 2
}
